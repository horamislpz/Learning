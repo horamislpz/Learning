{
 "cells": [
  {
   "cell_type": "code",
   "execution_count": 1,
   "metadata": {},
   "outputs": [
    {
     "name": "stdout",
     "output_type": "stream",
     "text": [
      "b79cn10k\n",
      "Adult\n"
     ]
    },
    {
     "data": {
      "text/plain": [
       "int"
      ]
     },
     "execution_count": 1,
     "metadata": {},
     "output_type": "execute_result"
    }
   ],
   "source": [
    "#saving unique movie theater identification \n",
    "theater_id = \"b79cn10k\"\n",
    "print(theater_id)\n",
    "\n",
    "ticket_type = \"Adult\"\n",
    "print(ticket_type)\n",
    "\n",
    "adult_tyckets_sold = 59.0\n",
    "type(adult_tyckets_sold)\n",
    "\n",
    "adult_tyckets_sold = int(adult_tyckets_sold)\n",
    "type(adult_tyckets_sold)\n"
   ]
  },
  {
   "cell_type": "code",
   "execution_count": 34,
   "metadata": {},
   "outputs": [
    {
     "name": "stdout",
     "output_type": "stream",
     "text": [
      "Total sales of the day: $79.9\n"
     ]
    }
   ],
   "source": [
    "tickets_sold = int(input(\"Please provide the amount of tickets sold: \"))\n",
    "tickets = tickets_sold\n",
    "    \n",
    "def total_sales (tickets_sold, price=7.99):\n",
    "    sales = tickets_sold * price\n",
    "    \n",
    "    return sales\n",
    "\n",
    "print(\"Total sales of the day: $\" + str(total_sales(tickets_sold)))"
   ]
  }
 ],
 "metadata": {
  "kernelspec": {
   "display_name": "base",
   "language": "python",
   "name": "python3"
  },
  "language_info": {
   "codemirror_mode": {
    "name": "ipython",
    "version": 3
   },
   "file_extension": ".py",
   "mimetype": "text/x-python",
   "name": "python",
   "nbconvert_exporter": "python",
   "pygments_lexer": "ipython3",
   "version": "3.11.7"
  }
 },
 "nbformat": 4,
 "nbformat_minor": 2
}
