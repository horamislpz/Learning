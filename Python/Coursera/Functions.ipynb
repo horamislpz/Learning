{
 "cells": [
  {
   "cell_type": "code",
   "execution_count": 5,
   "metadata": {},
   "outputs": [
    {
     "data": {
      "text/plain": [
       "20.5"
      ]
     },
     "execution_count": 5,
     "metadata": {},
     "output_type": "execute_result"
    }
   ],
   "source": [
    "def area_triangle(base, height):\n",
    "    return base * height / 2\n",
    "\n",
    "area_a = area_triangle(5, 4)\n",
    "area_b = area_triangle(7, 3)\n",
    "\n",
    "total_area = area_a + area_b\n",
    "\n",
    "total_area"
   ]
  },
  {
   "cell_type": "code",
   "execution_count": 7,
   "metadata": {},
   "outputs": [
    {
     "data": {
      "text/plain": [
       "182073.0"
      ]
     },
     "execution_count": 7,
     "metadata": {},
     "output_type": "execute_result"
    }
   ],
   "source": [
    "#functions to get seconds\n",
    "def get_seconds(hours, minutes, seconds):\n",
    "    total_seconds = 3600*hours + 60*minutes + seconds\n",
    "    return total_seconds\n",
    "\n",
    "get_seconds(50, 34.5, 3)"
   ]
  },
  {
   "cell_type": "code",
   "execution_count": 8,
   "metadata": {},
   "outputs": [
    {
     "name": "stdout",
     "output_type": "stream",
     "text": [
      "Hello Marisol. Your lucky number is 63\n",
      "Hello Ardashir. Your lucky number is 72\n"
     ]
    }
   ],
   "source": [
    "# This code does the same thing for two different people.\n",
    "name = \"Marisol\"\n",
    "number = len(name)*9\n",
    "print(\"Hello \" + name + \". Your lucky number is \" + str(number))\n",
    "\n",
    "name = \"Ardashir\"\n",
    "number = len(name)*9\n",
    "print(\"Hello \" + name + \". Your lucky number is \" + str(number))"
   ]
  },
  {
   "cell_type": "code",
   "execution_count": 14,
   "metadata": {},
   "outputs": [
    {
     "name": "stdout",
     "output_type": "stream",
     "text": [
      "Hello Horamis. Your lucky number is 63\n",
      "Hello Marlyn. Your lucky number is 54\n"
     ]
    }
   ],
   "source": [
    "# Define a function that simplifies the above code and makes it reusable.\n",
    "\n",
    "def lucky_number(name):\n",
    "    number = len(name)*9\n",
    "    print(\"Hello \" + name + \". Your lucky number is \" + str(number))\n",
    "    \n",
    "lucky_number(\"Horamis\")\n",
    "lucky_number(\"Marlyn\")"
   ]
  },
  {
   "cell_type": "code",
   "execution_count": 15,
   "metadata": {},
   "outputs": [
    {
     "name": "stdout",
     "output_type": "stream",
     "text": [
      "1\n",
      "2\n",
      "6\n",
      "24\n",
      "120\n",
      "720\n"
     ]
    }
   ],
   "source": [
    "# This code requests a number from the user and returns its factorial,\n",
    "# printing each iteration of the multiplication.\n",
    "a = input(); y = 1\n",
    "\n",
    "for i in range(int(a)):\n",
    "    y = y*(i+1)\n",
    "    print(y)"
   ]
  },
  {
   "cell_type": "code",
   "execution_count": 17,
   "metadata": {},
   "outputs": [
    {
     "name": "stdout",
     "output_type": "stream",
     "text": [
      "720\n"
     ]
    }
   ],
   "source": [
    "# This function takes an integer as an input and returns its factorial.\n",
    "def factorial(n):\n",
    "    # Exclude 0 as product, start with 1\n",
    "    y = 1\n",
    "    for i in range(int(n)):\n",
    "        y = y*(i+1)\n",
    "    return y\n",
    "\n",
    "# Enter a numerical value between 1-9 in the command line that appears.\n",
    "input_num = input()\n",
    "# Apply factorial function to an integer input\n",
    "print(factorial(input_num))"
   ]
  }
 ],
 "metadata": {
  "kernelspec": {
   "display_name": "base",
   "language": "python",
   "name": "python3"
  },
  "language_info": {
   "codemirror_mode": {
    "name": "ipython",
    "version": 3
   },
   "file_extension": ".py",
   "mimetype": "text/x-python",
   "name": "python",
   "nbconvert_exporter": "python",
   "pygments_lexer": "ipython3",
   "version": "3.11.7"
  }
 },
 "nbformat": 4,
 "nbformat_minor": 2
}
