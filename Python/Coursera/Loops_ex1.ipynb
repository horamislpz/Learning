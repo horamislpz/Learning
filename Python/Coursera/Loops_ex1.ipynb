{
 "cells": [
  {
   "cell_type": "code",
   "execution_count": 2,
   "metadata": {},
   "outputs": [
    {
     "ename": "ModuleNotFoundError",
     "evalue": "No module named 'ada_c2_labs'",
     "output_type": "error",
     "traceback": [
      "\u001b[1;31m---------------------------------------------------------------------------\u001b[0m",
      "\u001b[1;31mModuleNotFoundError\u001b[0m                       Traceback (most recent call last)",
      "Cell \u001b[1;32mIn[2], line 1\u001b[0m\n\u001b[1;32m----> 1\u001b[0m \u001b[38;5;28;01mimport\u001b[39;00m \u001b[38;5;21;01mada_c2_labs\u001b[39;00m \u001b[38;5;28;01mas\u001b[39;00m \u001b[38;5;21;01mlab\u001b[39;00m\n\u001b[0;32m      3\u001b[0m \u001b[38;5;28;01mdef\u001b[39;00m \u001b[38;5;21mid_validador\u001b[39m(verified_ids, feedback_ids):\n\u001b[0;32m      4\u001b[0m     unverified_feedback \u001b[38;5;241m=\u001b[39m \u001b[38;5;241m0\u001b[39m\n",
      "\u001b[1;31mModuleNotFoundError\u001b[0m: No module named 'ada_c2_labs'"
     ]
    }
   ],
   "source": [
    "import ada_c2_labs as lab\n",
    "\n",
    "def id_validador(verified_ids, feedback_ids):\n",
    "    unverified_feedback = 0\n",
    "    for id in feedback_ids:\n",
    "        if id not in verified_ids:\n",
    "            unverified_ids += 1\n",
    "        percent_unverified = unverified_feedback/len(feedback_ids)*100\n",
    "    print(unverified_feedback, 'of', len(feedback_ids), 'IDs unverified.')\n",
    "    print(str(round(percent_unverified, 2)) + '% unverified.')\n",
    "    \n",
    "ver1, fb1 = lab.lists_gen(8, 20, 15, 15)"
   ]
  }
 ],
 "metadata": {
  "kernelspec": {
   "display_name": "base",
   "language": "python",
   "name": "python3"
  },
  "language_info": {
   "codemirror_mode": {
    "name": "ipython",
    "version": 3
   },
   "file_extension": ".py",
   "mimetype": "text/x-python",
   "name": "python",
   "nbconvert_exporter": "python",
   "pygments_lexer": "ipython3",
   "version": "3.11.7"
  }
 },
 "nbformat": 4,
 "nbformat_minor": 2
}
